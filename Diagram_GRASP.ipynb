{
 "cells": [
  {
   "cell_type": "code",
   "execution_count": null,
   "metadata": {},
   "outputs": [],
   "source": [
    "import base64\n",
    "from IPython.display import Image, display"
   ]
  },
  {
   "cell_type": "markdown",
   "metadata": {},
   "source": [
    "# Function to display mermaid diagrams in jupyter notebooks"
   ]
  },
  {
   "cell_type": "code",
   "execution_count": 1,
   "metadata": {},
   "outputs": [],
   "source": [
    "def mm_ink(graphbytes):\n",
    "  \"\"\"Given a bytes object holding a Mermaid-format graph, return a URL that will generate the image.\"\"\"\n",
    "  base64_bytes = base64.b64encode(graphbytes)\n",
    "  base64_string = base64_bytes.decode(\"ascii\")\n",
    "  return \"https://mermaid.ink/img/\" + base64_string\n",
    "\n",
    "def mm_display(graphbytes):\n",
    "  \"\"\"Given a bytes object holding a Mermaid-format graph, display it.\"\"\"\n",
    "  display(Image(url=mm_ink(graphbytes)))\n",
    "\n",
    "def mm(graph):\n",
    "  \"\"\"Given a string containing a Mermaid-format graph, display it.\"\"\"\n",
    "  graphbytes = graph.encode(\"ascii\")\n",
    "  mm_display(graphbytes)\n",
    "\n",
    "def mm_link(graph):\n",
    "  \"\"\"Given a string containing a Mermaid-format graph, return URL for display.\"\"\"\n",
    "  graphbytes = graph.encode(\"ascii\")\n",
    "  return mm_ink(graphbytes)\n",
    "  \n",
    "def mm_path(path):\n",
    "  \"\"\"Given a path to a file containing a Mermaid-format graph, display it\"\"\"\n",
    "  with open(path, 'rb') as f:\n",
    "    graphbytes = f.read()\n",
    "  mm_display(graphbytes)"
   ]
  },
  {
   "cell_type": "markdown",
   "metadata": {},
   "source": [
    "# Algorithm overview"
   ]
  },
  {
   "cell_type": "code",
   "execution_count": 17,
   "metadata": {},
   "outputs": [
    {
     "data": {
      "text/html": [
       "<img src=\"https://mermaid.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\"/>"
      ],
      "text/plain": [
       "<IPython.core.display.Image object>"
      ]
     },
     "metadata": {},
     "output_type": "display_data"
    }
   ],
   "source": [
    "mm(\"\"\"flowchart TD\n",
    "    %% Start\n",
    "    Start(\"Start GRASP Algorithm\") --> Input(\"Input: Problem instance and parameters \n",
    "    (alpha, iterations)\")\n",
    "\n",
    "    %% Iterative loop\n",
    "    Input --> RepeatIterations[\"Repeat GRASP Iterations: \n",
    "    1 to n\"]\n",
    "    RepeatIterations --> ConstructionPhase[\"Phase I: \n",
    "    Construction Phase\"]\n",
    "\n",
    "    %% Construction Phase\n",
    "    ConstructionPhase -- \"Initialize empty solution\" --> BuildRCL[\"Build Restricted Candidate List (RCL)\"]\n",
    "    BuildRCL --> SelectCandidate[\"Select candidate element randomly from RCL (controlled by alpha)\"]\n",
    "    SelectCandidate --> UpdateSolution[\"Add selected element to partial solution\"]\n",
    "    UpdateSolution --> AdaptiveGreedy[\"Update greedy function adaptively\"]\n",
    "    AdaptiveGreedy --> CheckFeasible{\"Solution complete?\"}\n",
    "\n",
    "    %% Complete solution check\n",
    "    CheckFeasible -->|No| BuildRCL\n",
    "    CheckFeasible -->|Yes| LocalSearchPhase[\"Phase II: \n",
    "    Local Search Phase\"]\n",
    "\n",
    "    %% Local Search Phase\n",
    "    LocalSearchPhase -- \"Initialize neighborhood structure N(s)\" --> EvaluateNeighbors[\"Evaluate neighborhood solutions\"]\n",
    "    EvaluateNeighbors --> ImprovementCheck{\"Better solution?\"}\n",
    "\n",
    "    %% Improvement check loop\n",
    "    ImprovementCheck -->|Yes| UpdateSolutionLS[\"Update to better solution\"]\n",
    "    UpdateSolutionLS --> EvaluateNeighbors\n",
    "    ImprovementCheck -->|No| StoreSolution[\"Store current best solution\"]\n",
    "\n",
    "    %% Store and update best solution\n",
    "    StoreSolution --> UpdateBestSolution{\"Best solution so far?\"}\n",
    "    UpdateBestSolution -->|Yes| RecordBest[\"Update global best solution\"]\n",
    "    UpdateBestSolution -->|No| RepeatIterations\n",
    "\n",
    "    %% End condition\n",
    "    RepeatIterations -->|Stop| End(\"Return best overall solution found\")\n",
    "\n",
    "%% Styling\n",
    "classDef startEnd fill:#f8f9fa,stroke:#333,stroke-width:2px,font-weight:bold;\n",
    "classDef phaseI fill:#cce5ff,stroke:#6699cc,stroke-width:2px; %% Light Blue for Phase I\n",
    "classDef phaseII fill:#80d4ff,stroke:#3399cc,stroke-width:2px; %% Cyan-like Darker Blue for Phase II\n",
    "classDef decision fill:#001f3f,stroke:#fff,stroke-width:2px,color:#fff,font-weight:bold; %% Navy Blue for Decision Nodes\n",
    "classDef neutral fill:#f2f2f2,stroke:#999,stroke-width:2px; %% Light Grey for Neutral Nodes\n",
    "\n",
    "%% Class Assignments\n",
    "class Start,End startEnd;\n",
    "class ConstructionPhase,InitSolution,BuildRCL,SelectCandidate,UpdateSolution,AdaptiveGreedy phaseI;\n",
    "class LocalSearchPhase,InitNeighborhood,EvaluateNeighbors,UpdateSolutionLS,StoreSolution phaseII;\n",
    "class CheckFeasible,ImprovementCheck,UpdateBestSolution decision;\n",
    "class Input,RepeatIterations,RecordBest neutral;\n",
    "\"\"\")"
   ]
  },
  {
   "cell_type": "markdown",
   "metadata": {},
   "source": [
    "# Class presentation flow"
   ]
  },
  {
   "cell_type": "code",
   "execution_count": null,
   "metadata": {},
   "outputs": [
    {
     "data": {
      "text/html": [
       "<img src=\"https://mermaid.ink/img/Z3JhcGggVEQKICAgIHN0eWxlIFN0YXJ0IGZpbGw6I2NjZTVmZixzdHJva2U6IzY2OTljYyxzdHJva2Utd2lkdGg6MnB4ICUlIExpZ2h0IEJsdWUgZm9yIFByZS1yZXF1aXNpdGVzCiAgICBzdHlsZSBHUkFTUCBmaWxsOiM4MGQ0ZmYsc3Ryb2tlOiMzMzk5Y2Msc3Ryb2tlLXdpZHRoOjJweCAlJSBDeWFuLWxpa2UgRGFya2VyIEJsdWUgZm9yIEdSQVNQCiAgICBzdHlsZSBJbnRyb2R1Y3Rpb24gZmlsbDojZjJmMmYyLHN0cm9rZTojOTk5LHN0cm9rZS13aWR0aDoycHggJSUgTGlnaHQgR3JleSBmb3IgTmV1dHJhbCBOb2RlcwogICAgc3R5bGUgVGhlb3J5IGZpbGw6I2YyZjJmMixzdHJva2U6Izk5OSxzdHJva2Utd2lkdGg6MnB4ICUlIExpZ2h0IEdyZXkgZm9yIE5ldXRyYWwgTm9kZXMKICAgIHN0eWxlIENsYXNzaWZpY2F0aW9uIGZpbGw6I2YyZjJmMixzdHJva2U6Izk5OSxzdHJva2Utd2lkdGg6MnB4ICUlIExpZ2h0IEdyZXkgZm9yIE5ldXRyYWwgTm9kZXMKICAgIHN0eWxlIE92ZXJ2aWV3IGZpbGw6I2YyZjJmMixzdHJva2U6Izk5OSxzdHJva2Utd2lkdGg6MnB4ICUlIExpZ2h0IEdyZXkgZm9yIE5ldXRyYWwgTm9kZXMKICAgIHN0eWxlIE9yaWdpbiBmaWxsOiNmMmYyZjIsc3Ryb2tlOiM5OTksc3Ryb2tlLXdpZHRoOjJweCAlJSBMaWdodCBHcmV5IGZvciBOZXV0cmFsIE5vZGVzCiAgICBzdHlsZSBBcHBsaWNhdGlvbiBmaWxsOiNmMmYyZjIsc3Ryb2tlOiM5OTksc3Ryb2tlLXdpZHRoOjJweCAlJSBMaWdodCBHcmV5IGZvciBOZXV0cmFsIE5vZGVzCiAgICBzdHlsZSBFdm9sdXRpb24gZmlsbDojZjJmMmYyLHN0cm9rZTojOTk5LHN0cm9rZS13aWR0aDoycHggJSUgTGlnaHQgR3JleSBmb3IgTmV1dHJhbCBOb2RlcwogICAgc3R5bGUgRW5kIGZpbGw6I2YyZjJmMixzdHJva2U6Izk5OSxzdHJva2Utd2lkdGg6MnB4ICUlIExpZ2h0IEdyZXkgZm9yIE5ldXRyYWwgTm9kZXMKCiAgICBTdGFydFtQcmUtcmVxdWlzaXRlc10KICAgIFN0YXJ0IC0tPiBUaGVvcnlbT3B0aW1pemF0aW9uIFRoZW9yeSBCYXNpY3NdCiAgICBUaGVvcnkgLS0+IENsYXNzaWZpY2F0aW9uW09wdGltaXphdGlvbiBBbGdvcml0aG1zIFR5cGVzXQogICAgQ2xhc3NpZmljYXRpb24gLS0+IEdSQVNQWyJHUkFTUCAoR3JlZWR5IHJhbmRvbWl6ZWQgYWRhcHRpdmUgc2VhcmNoIHByb2NlZHVyZSkiXQogICAgR1JBU1AgLS0+IEludHJvZHVjdGlvbltJbnRyb2R1Y3Rpb25dCiAgICBJbnRyb2R1Y3Rpb25bSW50cm9kdWN0aW9uXSAtLT4gT3JpZ2luW09yaWdpbl0KICAgIE9yaWdpbiAtLT4gT3ZlcnZpZXdbQWxnb3JpdGhtIE92ZXJ2aWV3XQogICAgT3ZlcnZpZXcgLS0+IEFwcGxpY2F0aW9uW0FwcGxpY2F0aW9ucyBpbiBGaWVsZHNdCiAgICBBcHBsaWNhdGlvbiAtLT4gRXZvbHV0aW9uW0V2b2x1dGlvbiBvZiBHUkFTUF0KICAgIEV2b2x1dGlvbiAtLT4gRW5kW0NvbmNsdXNpb25dCg==\"/>"
      ],
      "text/plain": [
       "<IPython.core.display.Image object>"
      ]
     },
     "metadata": {},
     "output_type": "display_data"
    }
   ],
   "source": [
    "mm(\"\"\"graph TD\n",
    "    style Start fill:#cce5ff,stroke:#6699cc,stroke-width:2px %% Light Blue for Pre-requisites\n",
    "    style GRASP fill:#80d4ff,stroke:#3399cc,stroke-width:2px %% Cyan-like Darker Blue for GRASP\n",
    "    style Introduction fill:#f2f2f2,stroke:#999,stroke-width:2px %% Light Grey for Neutral Nodes\n",
    "    style Theory fill:#f2f2f2,stroke:#999,stroke-width:2px %% Light Grey for Neutral Nodes\n",
    "    style Classification fill:#f2f2f2,stroke:#999,stroke-width:2px %% Light Grey for Neutral Nodes\n",
    "    style Overview fill:#f2f2f2,stroke:#999,stroke-width:2px %% Light Grey for Neutral Nodes\n",
    "    style Origin fill:#f2f2f2,stroke:#999,stroke-width:2px %% Light Grey for Neutral Nodes\n",
    "    style Application fill:#f2f2f2,stroke:#999,stroke-width:2px %% Light Grey for Neutral Nodes\n",
    "    style Evolution fill:#f2f2f2,stroke:#999,stroke-width:2px %% Light Grey for Neutral Nodes\n",
    "    style End fill:#f2f2f2,stroke:#999,stroke-width:2px %% Light Grey for Neutral Nodes\n",
    "\n",
    "    Start[Pre-requisites]\n",
    "    Start --> Theory[Optimization Theory Basics]\n",
    "    Theory --> Classification[Optimization Algorithms Types]\n",
    "    Classification --> GRASP[\"GRASP (Greedy randomized adaptive search procedure)\"]\n",
    "    GRASP --> Introduction[Introduction]\n",
    "    Introduction[Introduction] --> Origin[Origin]\n",
    "    Origin --> Overview[Algorithm Overview]\n",
    "    Overview --> Application[Applications in Fields]\n",
    "    Application --> Evolution[Evolution of GRASP]\n",
    "    Evolution --> End[Conclusion]\n",
    "\"\"\")"
   ]
  }
 ],
 "metadata": {
  "kernelspec": {
   "display_name": "Python 3",
   "language": "python",
   "name": "python3"
  },
  "language_info": {
   "codemirror_mode": {
    "name": "ipython",
    "version": 3
   },
   "file_extension": ".py",
   "mimetype": "text/x-python",
   "name": "python",
   "nbconvert_exporter": "python",
   "pygments_lexer": "ipython3",
   "version": "3.12.1"
  }
 },
 "nbformat": 4,
 "nbformat_minor": 2
}
